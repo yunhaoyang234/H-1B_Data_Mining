{
 "cells": [
  {
   "cell_type": "markdown",
   "metadata": {},
   "source": [
    "# Classification"
   ]
  },
  {
   "cell_type": "markdown",
   "metadata": {},
   "source": [
    "## Read file"
   ]
  },
  {
   "cell_type": "code",
   "execution_count": 1,
   "metadata": {},
   "outputs": [
    {
     "data": {
      "text/plain": [
       "'0.24.2'"
      ]
     },
     "execution_count": 1,
     "metadata": {},
     "output_type": "execute_result"
    }
   ],
   "source": [
    "import pandas as pd\n",
    "import matplotlib.pyplot as plt\n",
    "import math\n",
    "import scipy.spatial\n",
    "import warnings\n",
    "import sklearn as sk\n",
    "import operator\n",
    "import numpy as np\n",
    "import pickle\n",
    "\n",
    "import sklearn.preprocessing as prep\n",
    "import sklearn.pipeline as pl\n",
    "import sklearn.metrics as mt\n",
    "import sklearn.model_selection as ms\n",
    "import matplotlib.pyplot as plt\n",
    "from sklearn.utils import shuffle\n",
    "\n",
    "import sklearn.tree as tree\n",
    "import sklearn.svm as sv\n",
    "import sklearn.neighbors as nei\n",
    "import sklearn.decomposition as dc\n",
    "import sklearn.neural_network as nn\n",
    "\n",
    "warnings.simplefilter(\"ignore\")\n",
    "\n",
    "# Enable inline mode for matplotlib so that Jupyter displays graphs\n",
    "%matplotlib inline\n",
    "\n",
    "pd.__version__ #print which version of pandas you're using"
   ]
  },
  {
   "cell_type": "code",
   "execution_count": 2,
   "metadata": {},
   "outputs": [
    {
     "data": {
      "text/html": [
       "<div>\n",
       "<style scoped>\n",
       "    .dataframe tbody tr th:only-of-type {\n",
       "        vertical-align: middle;\n",
       "    }\n",
       "\n",
       "    .dataframe tbody tr th {\n",
       "        vertical-align: top;\n",
       "    }\n",
       "\n",
       "    .dataframe thead th {\n",
       "        text-align: right;\n",
       "    }\n",
       "</style>\n",
       "<table border=\"1\" class=\"dataframe\">\n",
       "  <thead>\n",
       "    <tr style=\"text-align: right;\">\n",
       "      <th></th>\n",
       "      <th>EMPLOYMENT_END_DATE</th>\n",
       "      <th>TOTAL_WORKERS</th>\n",
       "      <th>NEW_EMPLOYMENT</th>\n",
       "      <th>CONTINUED_EMPLOYMENT</th>\n",
       "      <th>CHANGE_PREVIOUS_EMPLOYMENT</th>\n",
       "      <th>NEW_CONCURRENT_EMPLOYMENT</th>\n",
       "      <th>CHANGE_EMPLOYER</th>\n",
       "      <th>AMENDED_PETITION</th>\n",
       "      <th>FULL_TIME_POSITION</th>\n",
       "      <th>PREVAILING_WAGE</th>\n",
       "      <th>...</th>\n",
       "      <th>label</th>\n",
       "      <th>WAGE_LEVEL_1</th>\n",
       "      <th>WAGE_LEVEL_2</th>\n",
       "      <th>WAGE_LEVEL_3</th>\n",
       "      <th>WAGE_LEVEL_4</th>\n",
       "      <th>CBA</th>\n",
       "      <th>DBA</th>\n",
       "      <th>OES</th>\n",
       "      <th>SCA</th>\n",
       "      <th>OTHER_PW_SOURCE</th>\n",
       "    </tr>\n",
       "  </thead>\n",
       "  <tbody>\n",
       "    <tr>\n",
       "      <th>0</th>\n",
       "      <td>19</td>\n",
       "      <td>1</td>\n",
       "      <td>1</td>\n",
       "      <td>0</td>\n",
       "      <td>0</td>\n",
       "      <td>0</td>\n",
       "      <td>0</td>\n",
       "      <td>0</td>\n",
       "      <td>1</td>\n",
       "      <td>59197.0</td>\n",
       "      <td>...</td>\n",
       "      <td>0</td>\n",
       "      <td>1</td>\n",
       "      <td>0</td>\n",
       "      <td>0</td>\n",
       "      <td>0</td>\n",
       "      <td>0</td>\n",
       "      <td>0</td>\n",
       "      <td>1</td>\n",
       "      <td>0</td>\n",
       "      <td>0</td>\n",
       "    </tr>\n",
       "    <tr>\n",
       "      <th>1</th>\n",
       "      <td>19</td>\n",
       "      <td>2</td>\n",
       "      <td>1</td>\n",
       "      <td>0</td>\n",
       "      <td>0</td>\n",
       "      <td>0</td>\n",
       "      <td>0</td>\n",
       "      <td>0</td>\n",
       "      <td>1</td>\n",
       "      <td>76502.0</td>\n",
       "      <td>...</td>\n",
       "      <td>0</td>\n",
       "      <td>0</td>\n",
       "      <td>1</td>\n",
       "      <td>0</td>\n",
       "      <td>0</td>\n",
       "      <td>0</td>\n",
       "      <td>0</td>\n",
       "      <td>1</td>\n",
       "      <td>0</td>\n",
       "      <td>0</td>\n",
       "    </tr>\n",
       "    <tr>\n",
       "      <th>2</th>\n",
       "      <td>20</td>\n",
       "      <td>1</td>\n",
       "      <td>1</td>\n",
       "      <td>0</td>\n",
       "      <td>0</td>\n",
       "      <td>0</td>\n",
       "      <td>0</td>\n",
       "      <td>0</td>\n",
       "      <td>1</td>\n",
       "      <td>90376.0</td>\n",
       "      <td>...</td>\n",
       "      <td>0</td>\n",
       "      <td>0</td>\n",
       "      <td>0</td>\n",
       "      <td>1</td>\n",
       "      <td>0</td>\n",
       "      <td>0</td>\n",
       "      <td>0</td>\n",
       "      <td>1</td>\n",
       "      <td>0</td>\n",
       "      <td>0</td>\n",
       "    </tr>\n",
       "    <tr>\n",
       "      <th>3</th>\n",
       "      <td>18</td>\n",
       "      <td>1</td>\n",
       "      <td>0</td>\n",
       "      <td>0</td>\n",
       "      <td>0</td>\n",
       "      <td>0</td>\n",
       "      <td>1</td>\n",
       "      <td>0</td>\n",
       "      <td>1</td>\n",
       "      <td>116605.0</td>\n",
       "      <td>...</td>\n",
       "      <td>0</td>\n",
       "      <td>0</td>\n",
       "      <td>0</td>\n",
       "      <td>1</td>\n",
       "      <td>0</td>\n",
       "      <td>0</td>\n",
       "      <td>0</td>\n",
       "      <td>1</td>\n",
       "      <td>0</td>\n",
       "      <td>0</td>\n",
       "    </tr>\n",
       "    <tr>\n",
       "      <th>4</th>\n",
       "      <td>18</td>\n",
       "      <td>1</td>\n",
       "      <td>1</td>\n",
       "      <td>0</td>\n",
       "      <td>0</td>\n",
       "      <td>0</td>\n",
       "      <td>0</td>\n",
       "      <td>0</td>\n",
       "      <td>1</td>\n",
       "      <td>59405.0</td>\n",
       "      <td>...</td>\n",
       "      <td>0</td>\n",
       "      <td>0</td>\n",
       "      <td>0</td>\n",
       "      <td>1</td>\n",
       "      <td>0</td>\n",
       "      <td>0</td>\n",
       "      <td>0</td>\n",
       "      <td>1</td>\n",
       "      <td>0</td>\n",
       "      <td>0</td>\n",
       "    </tr>\n",
       "  </tbody>\n",
       "</table>\n",
       "<p>5 rows × 26 columns</p>\n",
       "</div>"
      ],
      "text/plain": [
       "   EMPLOYMENT_END_DATE  TOTAL_WORKERS  NEW_EMPLOYMENT  CONTINUED_EMPLOYMENT  \\\n",
       "0                   19              1               1                     0   \n",
       "1                   19              2               1                     0   \n",
       "2                   20              1               1                     0   \n",
       "3                   18              1               0                     0   \n",
       "4                   18              1               1                     0   \n",
       "\n",
       "   CHANGE_PREVIOUS_EMPLOYMENT  NEW_CONCURRENT_EMPLOYMENT  CHANGE_EMPLOYER  \\\n",
       "0                           0                          0                0   \n",
       "1                           0                          0                0   \n",
       "2                           0                          0                0   \n",
       "3                           0                          0                1   \n",
       "4                           0                          0                0   \n",
       "\n",
       "   AMENDED_PETITION  FULL_TIME_POSITION  PREVAILING_WAGE  ...  label  \\\n",
       "0                 0                   1          59197.0  ...      0   \n",
       "1                 0                   1          76502.0  ...      0   \n",
       "2                 0                   1          90376.0  ...      0   \n",
       "3                 0                   1         116605.0  ...      0   \n",
       "4                 0                   1          59405.0  ...      0   \n",
       "\n",
       "   WAGE_LEVEL_1  WAGE_LEVEL_2  WAGE_LEVEL_3  WAGE_LEVEL_4  CBA  DBA  OES  SCA  \\\n",
       "0             1             0             0             0    0    0    1    0   \n",
       "1             0             1             0             0    0    0    1    0   \n",
       "2             0             0             1             0    0    0    1    0   \n",
       "3             0             0             1             0    0    0    1    0   \n",
       "4             0             0             1             0    0    0    1    0   \n",
       "\n",
       "   OTHER_PW_SOURCE  \n",
       "0                0  \n",
       "1                0  \n",
       "2                0  \n",
       "3                0  \n",
       "4                0  \n",
       "\n",
       "[5 rows x 26 columns]"
      ]
     },
     "execution_count": 2,
     "metadata": {},
     "output_type": "execute_result"
    }
   ],
   "source": [
    "df = pd.read_csv('numerical.csv')\n",
    "df.head()"
   ]
  },
  {
   "cell_type": "markdown",
   "metadata": {},
   "source": [
    "## Eliminate class imbalance"
   ]
  },
  {
   "cell_type": "code",
   "execution_count": 3,
   "metadata": {},
   "outputs": [
    {
     "data": {
      "text/html": [
       "<div>\n",
       "<style scoped>\n",
       "    .dataframe tbody tr th:only-of-type {\n",
       "        vertical-align: middle;\n",
       "    }\n",
       "\n",
       "    .dataframe tbody tr th {\n",
       "        vertical-align: top;\n",
       "    }\n",
       "\n",
       "    .dataframe thead th {\n",
       "        text-align: right;\n",
       "    }\n",
       "</style>\n",
       "<table border=\"1\" class=\"dataframe\">\n",
       "  <thead>\n",
       "    <tr style=\"text-align: right;\">\n",
       "      <th></th>\n",
       "      <th>EMPLOYMENT_END_DATE</th>\n",
       "      <th>TOTAL_WORKERS</th>\n",
       "      <th>NEW_EMPLOYMENT</th>\n",
       "      <th>CONTINUED_EMPLOYMENT</th>\n",
       "      <th>CHANGE_PREVIOUS_EMPLOYMENT</th>\n",
       "      <th>NEW_CONCURRENT_EMPLOYMENT</th>\n",
       "      <th>CHANGE_EMPLOYER</th>\n",
       "      <th>AMENDED_PETITION</th>\n",
       "      <th>FULL_TIME_POSITION</th>\n",
       "      <th>PREVAILING_WAGE</th>\n",
       "      <th>...</th>\n",
       "      <th>label</th>\n",
       "      <th>WAGE_LEVEL_1</th>\n",
       "      <th>WAGE_LEVEL_2</th>\n",
       "      <th>WAGE_LEVEL_3</th>\n",
       "      <th>WAGE_LEVEL_4</th>\n",
       "      <th>CBA</th>\n",
       "      <th>DBA</th>\n",
       "      <th>OES</th>\n",
       "      <th>SCA</th>\n",
       "      <th>OTHER_PW_SOURCE</th>\n",
       "    </tr>\n",
       "  </thead>\n",
       "  <tbody>\n",
       "    <tr>\n",
       "      <th>0</th>\n",
       "      <td>18</td>\n",
       "      <td>1</td>\n",
       "      <td>0</td>\n",
       "      <td>1</td>\n",
       "      <td>0</td>\n",
       "      <td>0</td>\n",
       "      <td>0</td>\n",
       "      <td>0</td>\n",
       "      <td>1</td>\n",
       "      <td>41309.0</td>\n",
       "      <td>...</td>\n",
       "      <td>0</td>\n",
       "      <td>1</td>\n",
       "      <td>0</td>\n",
       "      <td>0</td>\n",
       "      <td>0</td>\n",
       "      <td>0</td>\n",
       "      <td>0</td>\n",
       "      <td>1</td>\n",
       "      <td>0</td>\n",
       "      <td>0</td>\n",
       "    </tr>\n",
       "    <tr>\n",
       "      <th>1</th>\n",
       "      <td>19</td>\n",
       "      <td>1</td>\n",
       "      <td>1</td>\n",
       "      <td>0</td>\n",
       "      <td>0</td>\n",
       "      <td>0</td>\n",
       "      <td>0</td>\n",
       "      <td>0</td>\n",
       "      <td>1</td>\n",
       "      <td>40810.0</td>\n",
       "      <td>...</td>\n",
       "      <td>0</td>\n",
       "      <td>1</td>\n",
       "      <td>0</td>\n",
       "      <td>0</td>\n",
       "      <td>0</td>\n",
       "      <td>0</td>\n",
       "      <td>0</td>\n",
       "      <td>1</td>\n",
       "      <td>0</td>\n",
       "      <td>0</td>\n",
       "    </tr>\n",
       "    <tr>\n",
       "      <th>2</th>\n",
       "      <td>19</td>\n",
       "      <td>1</td>\n",
       "      <td>0</td>\n",
       "      <td>0</td>\n",
       "      <td>0</td>\n",
       "      <td>0</td>\n",
       "      <td>1</td>\n",
       "      <td>0</td>\n",
       "      <td>1</td>\n",
       "      <td>113693.0</td>\n",
       "      <td>...</td>\n",
       "      <td>1</td>\n",
       "      <td>0</td>\n",
       "      <td>0</td>\n",
       "      <td>0</td>\n",
       "      <td>1</td>\n",
       "      <td>0</td>\n",
       "      <td>0</td>\n",
       "      <td>1</td>\n",
       "      <td>0</td>\n",
       "      <td>0</td>\n",
       "    </tr>\n",
       "    <tr>\n",
       "      <th>3</th>\n",
       "      <td>18</td>\n",
       "      <td>1</td>\n",
       "      <td>0</td>\n",
       "      <td>1</td>\n",
       "      <td>0</td>\n",
       "      <td>0</td>\n",
       "      <td>0</td>\n",
       "      <td>0</td>\n",
       "      <td>1</td>\n",
       "      <td>147784.0</td>\n",
       "      <td>...</td>\n",
       "      <td>0</td>\n",
       "      <td>0</td>\n",
       "      <td>0</td>\n",
       "      <td>0</td>\n",
       "      <td>1</td>\n",
       "      <td>0</td>\n",
       "      <td>0</td>\n",
       "      <td>1</td>\n",
       "      <td>0</td>\n",
       "      <td>0</td>\n",
       "    </tr>\n",
       "    <tr>\n",
       "      <th>4</th>\n",
       "      <td>21</td>\n",
       "      <td>1</td>\n",
       "      <td>1</td>\n",
       "      <td>0</td>\n",
       "      <td>0</td>\n",
       "      <td>0</td>\n",
       "      <td>0</td>\n",
       "      <td>0</td>\n",
       "      <td>1</td>\n",
       "      <td>28371.0</td>\n",
       "      <td>...</td>\n",
       "      <td>1</td>\n",
       "      <td>1</td>\n",
       "      <td>0</td>\n",
       "      <td>0</td>\n",
       "      <td>0</td>\n",
       "      <td>0</td>\n",
       "      <td>0</td>\n",
       "      <td>1</td>\n",
       "      <td>0</td>\n",
       "      <td>0</td>\n",
       "    </tr>\n",
       "  </tbody>\n",
       "</table>\n",
       "<p>5 rows × 26 columns</p>\n",
       "</div>"
      ],
      "text/plain": [
       "   EMPLOYMENT_END_DATE  TOTAL_WORKERS  NEW_EMPLOYMENT  CONTINUED_EMPLOYMENT  \\\n",
       "0                   18              1               0                     1   \n",
       "1                   19              1               1                     0   \n",
       "2                   19              1               0                     0   \n",
       "3                   18              1               0                     1   \n",
       "4                   21              1               1                     0   \n",
       "\n",
       "   CHANGE_PREVIOUS_EMPLOYMENT  NEW_CONCURRENT_EMPLOYMENT  CHANGE_EMPLOYER  \\\n",
       "0                           0                          0                0   \n",
       "1                           0                          0                0   \n",
       "2                           0                          0                1   \n",
       "3                           0                          0                0   \n",
       "4                           0                          0                0   \n",
       "\n",
       "   AMENDED_PETITION  FULL_TIME_POSITION  PREVAILING_WAGE  ...  label  \\\n",
       "0                 0                   1          41309.0  ...      0   \n",
       "1                 0                   1          40810.0  ...      0   \n",
       "2                 0                   1         113693.0  ...      1   \n",
       "3                 0                   1         147784.0  ...      0   \n",
       "4                 0                   1          28371.0  ...      1   \n",
       "\n",
       "   WAGE_LEVEL_1  WAGE_LEVEL_2  WAGE_LEVEL_3  WAGE_LEVEL_4  CBA  DBA  OES  SCA  \\\n",
       "0             1             0             0             0    0    0    1    0   \n",
       "1             1             0             0             0    0    0    1    0   \n",
       "2             0             0             0             1    0    0    1    0   \n",
       "3             0             0             0             1    0    0    1    0   \n",
       "4             1             0             0             0    0    0    1    0   \n",
       "\n",
       "   OTHER_PW_SOURCE  \n",
       "0                0  \n",
       "1                0  \n",
       "2                0  \n",
       "3                0  \n",
       "4                0  \n",
       "\n",
       "[5 rows x 26 columns]"
      ]
     },
     "execution_count": 3,
     "metadata": {},
     "output_type": "execute_result"
    }
   ],
   "source": [
    "def balance_class(d, size=50000):\n",
    "    gr = d.groupby('label')\n",
    "    not_cert = pd.DataFrame()\n",
    "    cert = pd.DataFrame()\n",
    "    for name, data in gr:\n",
    "        if name == 0:\n",
    "            not_cert = data.sample(n = size)\n",
    "        else:\n",
    "            cert = data.sample(n = size)\n",
    "    frames = [cert, not_cert]\n",
    "    new_df = shuffle(pd.concat(frames, axis=0, sort=False, ignore_index=True))\n",
    "    new_df = new_df.reset_index(drop=True)\n",
    "    return new_df\n",
    "\n",
    "# ensure the training data and testing data are different\n",
    "df = shuffle(df)\n",
    "bal_df = balance_class(df[:500000])\n",
    "bal_df.head()"
   ]
  },
  {
   "cell_type": "markdown",
   "metadata": {},
   "source": [
    "## Create test set"
   ]
  },
  {
   "cell_type": "code",
   "execution_count": 4,
   "metadata": {},
   "outputs": [
    {
     "name": "stdout",
     "output_type": "stream",
     "text": [
      "(1092830, 26)\n",
      "(10000, 26)\n",
      "0 1221\n",
      "1 8779\n"
     ]
    }
   ],
   "source": [
    "test_df = df[500000:]\n",
    "test_set = test_df.sample(n=10000)\n",
    "print(df.shape)\n",
    "print(test_set.shape)\n",
    "g = test_set.groupby('label')\n",
    "for n, s in g:\n",
    "    print(n, len(s))\n",
    "test_labels = test_set['label']"
   ]
  },
  {
   "cell_type": "markdown",
   "metadata": {},
   "source": [
    "## Common functions"
   ]
  },
  {
   "cell_type": "code",
   "execution_count": 10,
   "metadata": {},
   "outputs": [],
   "source": [
    "def split_label(d):\n",
    "    labels = d['label']\n",
    "    features = d.drop('label', axis=1)\n",
    "    return labels, features"
   ]
  },
  {
   "cell_type": "code",
   "execution_count": 35,
   "metadata": {},
   "outputs": [],
   "source": [
    "def best_param(feature, label, model, grid):\n",
    "    # determine the best parameter\n",
    "    #model_grid = ms.GridSearchCV(cv = 5, param_grid = grid, estimator = model)\n",
    "    model_grid = ms.RandomizedSearchCV(cv = 2, param_distributions = grid, estimator = model, n_iter=3)\n",
    "    model_grid = model_grid.fit(feature, label)\n",
    "    print(model_grid.best_params_)\n",
    "    \n",
    "    # cross validation to evaluate best parameters\n",
    "    ac = ms.cross_val_score(model_grid, feature, label, cv=5, scoring='accuracy')\n",
    "    acc = np.array([x for x in ac if not np.isnan(x)])\n",
    "    print(\"On Balanced Data\")\n",
    "    print(\"Cross Validation Accuracy = \" + str(acc))\n",
    "    print(\"Average Accuracy = \" + str(acc.mean()))\n",
    "\n",
    "    return model_grid.best_params_"
   ]
  },
  {
   "cell_type": "code",
   "execution_count": 5,
   "metadata": {},
   "outputs": [],
   "source": [
    "def print_report(data, model):\n",
    "    labels, features = split_label(data)\n",
    "    pred = ms.cross_val_predict(model, features, labels, cv = 5)\n",
    "    print(mt.classification_report(labels, pred))\n",
    "    return pred"
   ]
  },
  {
   "cell_type": "code",
   "execution_count": 6,
   "metadata": {},
   "outputs": [],
   "source": [
    "def store_model(clf, fname):\n",
    "    final_model = clf\n",
    "    filename = fname + '.sav'\n",
    "    pickle.dump(final_model, open(filename, 'wb'))\n",
    "    print('stored ' + fname)"
   ]
  },
  {
   "cell_type": "code",
   "execution_count": 9,
   "metadata": {},
   "outputs": [],
   "source": [
    "predict_results = {}\n",
    "\n",
    "def add_result(result, title):\n",
    "    predict_results[title] = result\n",
    "\n",
    "def store_results():\n",
    "    predict_results['label'] = list(test_labels)\n",
    "    results = pd.DataFrame(predict_results, index=None)\n",
    "    results.to_csv('model_results.csv', index=False)\n",
    "    \n",
    "def read_results():\n",
    "    results = pd.read_csv('model_results.csv')\n",
    "    return results\n",
    "\n",
    "def edit_results(results, col, name):\n",
    "    results[name] = col\n",
    "    return result\n",
    "\n",
    "def restore_results(results):\n",
    "    results.to_csv('model_results.csv', index=False)"
   ]
  },
  {
   "cell_type": "markdown",
   "metadata": {},
   "source": [
    "## Decision Tree"
   ]
  },
  {
   "cell_type": "code",
   "execution_count": 8,
   "metadata": {},
   "outputs": [],
   "source": [
    "def decision_tree(data):\n",
    "    label, feature = split_label(data)\n",
    "    dt = tree.DecisionTreeClassifier()\n",
    "    grid = {\n",
    "        'criterion': ['gini', 'entropy'],\n",
    "        'max_depth': range(10, 50, 10),\n",
    "        'min_samples_leaf': range(1, 10, 4),\n",
    "        'min_samples_split': range(2, 11, 4),\n",
    "    }\n",
    "    param = best_param(feature, label, dt, grid)\n",
    "    dt_clf = tree.DecisionTreeClassifier(criterion=param['criterion'],\n",
    "                                        max_depth=param['max_depth'],\n",
    "                                        min_samples_leaf=param['min_samples_leaf'],\n",
    "                                        min_samples_split=param['min_samples_split'])\n",
    "    return dt_clf"
   ]
  },
  {
   "cell_type": "code",
   "execution_count": 12,
   "metadata": {},
   "outputs": [
    {
     "name": "stdout",
     "output_type": "stream",
     "text": [
      "{'min_samples_split': 2, 'min_samples_leaf': 9, 'max_depth': 30, 'criterion': 'gini'}\n",
      "On Balanced Data\n",
      "Cross Validation Accuracy = [0.635  0.6    0.6135 0.6055 0.644 ]\n",
      "Average Accuracy = 0.6196\n"
     ]
    }
   ],
   "source": [
    "dt = decision_tree(bal_df)"
   ]
  },
  {
   "cell_type": "code",
   "execution_count": 12,
   "metadata": {},
   "outputs": [
    {
     "name": "stdout",
     "output_type": "stream",
     "text": [
      "              precision    recall  f1-score   support\n",
      "\n",
      "           0       0.74      0.28      0.40      1221\n",
      "           1       0.91      0.99      0.95      8779\n",
      "\n",
      "    accuracy                           0.90     10000\n",
      "   macro avg       0.83      0.63      0.67     10000\n",
      "weighted avg       0.89      0.90      0.88     10000\n",
      "\n"
     ]
    }
   ],
   "source": [
    "label, feature = split_label(test_set)\n",
    "dt_predict_result = print_report(test_set, dt)"
   ]
  },
  {
   "cell_type": "code",
   "execution_count": 13,
   "metadata": {},
   "outputs": [
    {
     "name": "stdout",
     "output_type": "stream",
     "text": [
      "stored decision_tree\n",
      "model stored\n",
      "{'decision tree': array([1, 1, 1, ..., 1, 1, 1])}\n"
     ]
    }
   ],
   "source": [
    "store_model(dt, 'decision_tree')\n",
    "print('model stored')\n",
    "add_result(dt_predict_result, 'decision tree')\n",
    "print(predict_results)"
   ]
  },
  {
   "cell_type": "markdown",
   "metadata": {},
   "source": [
    "## Random Forest"
   ]
  },
  {
   "cell_type": "code",
   "execution_count": 13,
   "metadata": {},
   "outputs": [],
   "source": [
    "import sklearn.ensemble as en\n",
    "\n",
    "def random_forest(data):\n",
    "    label, feature = split_label(data)\n",
    "    rf = en.RandomForestClassifier()\n",
    "    grid = {\n",
    "        'n_estimators': range(10, 50, 10),\n",
    "        'criterion': ['gini', 'entropy'],\n",
    "        'max_depth': range(10, 50, 10),\n",
    "        'min_samples_leaf': range(1, 10, 4),\n",
    "        'min_samples_split': range(2, 11, 4),\n",
    "    }\n",
    "    param = best_param(feature, label, rf, grid)\n",
    "    rf_clf = en.RandomForestClassifier(n_estimators=param['n_estimators'],\n",
    "                                        criterion=param['criterion'],\n",
    "                                        max_depth=param['max_depth'],\n",
    "                                        min_samples_leaf=param['min_samples_leaf'],\n",
    "                                        min_samples_split=param['min_samples_split'])\n",
    "    return rf_clf"
   ]
  },
  {
   "cell_type": "code",
   "execution_count": 14,
   "metadata": {},
   "outputs": [
    {
     "name": "stdout",
     "output_type": "stream",
     "text": [
      "{'n_estimators': 10, 'min_samples_split': 10, 'min_samples_leaf': 5, 'max_depth': 20, 'criterion': 'entropy'}\n",
      "On Balanced Data\n",
      "Cross Validation Accuracy = [0.6465 0.661  0.644  0.622  0.662 ]\n",
      "Average Accuracy = 0.6471\n"
     ]
    }
   ],
   "source": [
    "rf = random_forest(bal_df)"
   ]
  },
  {
   "cell_type": "code",
   "execution_count": 15,
   "metadata": {},
   "outputs": [
    {
     "name": "stdout",
     "output_type": "stream",
     "text": [
      "{'n_estimators': 30, 'min_samples_split': 6, 'min_samples_leaf': 9, 'max_depth': 30, 'criterion': 'gini'}\n",
      "              precision    recall  f1-score   support\n",
      "\n",
      "           0       0.98      0.25      0.39      1221\n",
      "           1       0.91      1.00      0.95      8779\n",
      "\n",
      "    accuracy                           0.91     10000\n",
      "   macro avg       0.94      0.62      0.67     10000\n",
      "weighted avg       0.91      0.91      0.88     10000\n",
      "\n"
     ]
    }
   ],
   "source": [
    "label, feature = split_label(test_set)\n",
    "rf_predict_result = print_report(test_set, rf)"
   ]
  },
  {
   "cell_type": "code",
   "execution_count": 16,
   "metadata": {},
   "outputs": [
    {
     "name": "stdout",
     "output_type": "stream",
     "text": [
      "stored random_forest\n",
      "model stored\n",
      "{'decision tree': array([1, 1, 1, ..., 1, 1, 1]), 'random forest': array([1, 1, 1, ..., 1, 1, 1])}\n"
     ]
    }
   ],
   "source": [
    "store_model(rf, 'random_forest')\n",
    "print('model stored')\n",
    "add_result(rf_predict_result, 'random forest')\n",
    "print(predict_results)"
   ]
  },
  {
   "cell_type": "markdown",
   "metadata": {},
   "source": [
    "## AdaBoost"
   ]
  },
  {
   "cell_type": "code",
   "execution_count": 16,
   "metadata": {},
   "outputs": [],
   "source": [
    "import sklearn.ensemble as en\n",
    "\n",
    "def ada_boost(data):\n",
    "    label, feature = split_label(data)\n",
    "    ada = en.AdaBoostClassifier()\n",
    "    grid = {\n",
    "        'n_estimators': range(10, 50, 10),\n",
    "        'learning_rate': [0.5, 1.0, 1.5],\n",
    "        'algorithm': ['SAMME']\n",
    "    }\n",
    "    param = best_param(feature, label, ada, grid)\n",
    "    ada_clf = en.AdaBoostClassifier(n_estimators=param['n_estimators'],\n",
    "                                        learning_rate=param['learning_rate'],\n",
    "                                        algorithm=param['algorithm'])\n",
    "    ada_clf.fit(feature, label)\n",
    "    return ada_clf"
   ]
  },
  {
   "cell_type": "code",
   "execution_count": 17,
   "metadata": {},
   "outputs": [
    {
     "name": "stdout",
     "output_type": "stream",
     "text": [
      "{'n_estimators': 10, 'learning_rate': 1.5, 'algorithm': 'SAMME'}\n",
      "On Balanced Data\n",
      "Cross Validation Accuracy = [0.647  0.649  0.6275 0.6255 0.655 ]\n",
      "Average Accuracy = 0.6407999999999999\n"
     ]
    }
   ],
   "source": [
    "ada = ada_boost(bal_df)"
   ]
  },
  {
   "cell_type": "code",
   "execution_count": 19,
   "metadata": {},
   "outputs": [
    {
     "name": "stdout",
     "output_type": "stream",
     "text": [
      "              precision    recall  f1-score   support\n",
      "\n",
      "           0       0.98      0.25      0.39      1221\n",
      "           1       0.91      1.00      0.95      8779\n",
      "\n",
      "    accuracy                           0.91     10000\n",
      "   macro avg       0.94      0.62      0.67     10000\n",
      "weighted avg       0.91      0.91      0.88     10000\n",
      "\n"
     ]
    }
   ],
   "source": [
    "ada_predict_result = print_report(test_set, ada)"
   ]
  },
  {
   "cell_type": "code",
   "execution_count": 20,
   "metadata": {},
   "outputs": [
    {
     "name": "stdout",
     "output_type": "stream",
     "text": [
      "stored ada_boost\n",
      "model stored\n",
      "{'decision tree': array([1, 1, 1, ..., 1, 1, 1]), 'random forest': array([1, 1, 1, ..., 1, 1, 1]), 'ada boost': array([1, 1, 1, ..., 1, 1, 1])}\n"
     ]
    }
   ],
   "source": [
    "store_model(ada, 'ada_boost')\n",
    "print('model stored')\n",
    "add_result(ada_predict_result, 'ada boost')\n",
    "print(predict_results)"
   ]
  },
  {
   "cell_type": "markdown",
   "metadata": {},
   "source": [
    "## Nearest Neighbor"
   ]
  },
  {
   "cell_type": "code",
   "execution_count": 18,
   "metadata": {},
   "outputs": [],
   "source": [
    "def nearest_neighbor(data):\n",
    "    label, feature = split_label(data)\n",
    "    pca = dc.PCA()\n",
    "    scaler = prep.StandardScaler()\n",
    "    nn = nei.KNeighborsClassifier(metric='euclidean')\n",
    "    pipe = pl.Pipeline(steps = [('scaler', scaler), ('pca', pca), ('nn', nn)])\n",
    "    grid = {\n",
    "        'pca__n_components': range(8, 25, 8),\n",
    "        'nn__n_neighbors': [5, 8, 11],\n",
    "        'nn__algorithm': ['ball_tree', 'kd_tree', 'brute'],\n",
    "        'nn__leaf_size': [20, 30, 40, 50]\n",
    "    }\n",
    "    param = best_param(feature, label, pipe, grid)\n",
    "    nn_clf = nei.KNeighborsClassifier(n_neighbors=param['nn__n_neighbors'],\n",
    "                                        algorithm=param['nn__algorithm'],\n",
    "                                        leaf_size=param['nn__leaf_size'])\n",
    "    pca_clf = dc.PCA(n_components=param['pca__n_components'])\n",
    "    pipe_clf = pl.Pipeline(steps = [('scaler', scaler), ('pca', pca_clf), ('nn', nn_clf)])\n",
    "    return pipe_clf"
   ]
  },
  {
   "cell_type": "code",
   "execution_count": 19,
   "metadata": {},
   "outputs": [
    {
     "name": "stdout",
     "output_type": "stream",
     "text": [
      "{'pca__n_components': 8, 'nn__n_neighbors': 8, 'nn__leaf_size': 40, 'nn__algorithm': 'ball_tree'}\n",
      "On Balanced Data\n",
      "Cross Validation Accuracy = [0.606  0.617  0.6215 0.6255 0.6285]\n",
      "Average Accuracy = 0.6196999999999999\n"
     ]
    }
   ],
   "source": [
    "knn = nearest_neighbor(bal_df)"
   ]
  },
  {
   "cell_type": "code",
   "execution_count": 23,
   "metadata": {},
   "outputs": [
    {
     "name": "stdout",
     "output_type": "stream",
     "text": [
      "              precision    recall  f1-score   support\n",
      "\n",
      "           0       0.68      0.18      0.29      1221\n",
      "           1       0.90      0.99      0.94      8779\n",
      "\n",
      "    accuracy                           0.89     10000\n",
      "   macro avg       0.79      0.58      0.61     10000\n",
      "weighted avg       0.87      0.89      0.86     10000\n",
      "\n"
     ]
    }
   ],
   "source": [
    "knn_predict_result = print_report(test_set, knn)"
   ]
  },
  {
   "cell_type": "code",
   "execution_count": 24,
   "metadata": {},
   "outputs": [
    {
     "name": "stdout",
     "output_type": "stream",
     "text": [
      "stored knn\n",
      "model stored\n",
      "{'decision tree': array([1, 1, 1, ..., 1, 1, 1]), 'random forest': array([1, 1, 1, ..., 1, 1, 1]), 'ada boost': array([1, 1, 1, ..., 1, 1, 1]), 'nearest neighbor': array([0, 1, 1, ..., 1, 1, 1])}\n"
     ]
    }
   ],
   "source": [
    "store_model(knn, 'knn')\n",
    "print('model stored')\n",
    "add_result(knn_predict_result, 'nearest neighbor')\n",
    "print(predict_results)"
   ]
  },
  {
   "cell_type": "markdown",
   "metadata": {},
   "source": [
    "## SVC"
   ]
  },
  {
   "cell_type": "code",
   "execution_count": 20,
   "metadata": {},
   "outputs": [],
   "source": [
    "def svc(data):\n",
    "    label, feature = split_label(data)\n",
    "    scaler = prep.StandardScaler()\n",
    "    pca = dc.PCA()\n",
    "    svc = sv.SVC()\n",
    "    pipe = pl.Pipeline(steps = [('scaler', scaler), ('pca', pca), ('svc', svc)])\n",
    "    grid = {\n",
    "        'pca__n_components': range(8, 25, 8),\n",
    "        'svc__kernel': ['linear', 'rbf', 'poly']\n",
    "    }\n",
    "    param = best_param(feature, label, pipe, grid)\n",
    "    sv_clf = sv.SVC(kernel=param['svc__kernel'])\n",
    "    pca_clf = dc.PCA(n_components=param['pca__n_components'])\n",
    "    pipe_clf = pl.Pipeline(steps = [('scaler', scaler), ('pca', pca_clf), ('svc', sv_clf)])\n",
    "    return pipe_clf"
   ]
  },
  {
   "cell_type": "code",
   "execution_count": 21,
   "metadata": {},
   "outputs": [
    {
     "name": "stdout",
     "output_type": "stream",
     "text": [
      "{'svc__kernel': 'rbf', 'pca__n_components': 24}\n",
      "On Balanced Data\n",
      "Cross Validation Accuracy = [0.6435 0.6525 0.6405 0.6125 0.653 ]\n",
      "Average Accuracy = 0.6403999999999999\n"
     ]
    }
   ],
   "source": [
    "svc = svc(bal_df)"
   ]
  },
  {
   "cell_type": "code",
   "execution_count": 27,
   "metadata": {},
   "outputs": [
    {
     "name": "stdout",
     "output_type": "stream",
     "text": [
      "              precision    recall  f1-score   support\n",
      "\n",
      "           0       0.92      0.19      0.32      1221\n",
      "           1       0.90      1.00      0.95      8779\n",
      "\n",
      "    accuracy                           0.90     10000\n",
      "   macro avg       0.91      0.60      0.63     10000\n",
      "weighted avg       0.90      0.90      0.87     10000\n",
      "\n"
     ]
    }
   ],
   "source": [
    "sv_predict_result = print_report(test_set, svc)"
   ]
  },
  {
   "cell_type": "code",
   "execution_count": 28,
   "metadata": {},
   "outputs": [
    {
     "name": "stdout",
     "output_type": "stream",
     "text": [
      "stored svc\n",
      "model stored\n",
      "{'decision tree': array([1, 1, 1, ..., 1, 1, 1]), 'random forest': array([1, 1, 1, ..., 1, 1, 1]), 'ada boost': array([1, 1, 1, ..., 1, 1, 1]), 'nearest neighbor': array([0, 1, 1, ..., 1, 1, 1]), 'svc': array([1, 1, 1, ..., 1, 1, 1])}\n"
     ]
    }
   ],
   "source": [
    "store_model(svc, 'svc')\n",
    "print('model stored')\n",
    "add_result(sv_predict_result, 'svc')\n",
    "print(predict_results)"
   ]
  },
  {
   "cell_type": "markdown",
   "metadata": {},
   "source": [
    "## Neural Network"
   ]
  },
  {
   "cell_type": "code",
   "execution_count": 22,
   "metadata": {},
   "outputs": [],
   "source": [
    "def neural_network(data):\n",
    "    label, feature = split_label(data)\n",
    "    scaler = prep.StandardScaler()\n",
    "    mlp = nn.MLPClassifier()\n",
    "    pipe = pl.Pipeline(steps = [('scaler', scaler), ('mlp', mlp)])\n",
    "    grid = {\n",
    "        'mlp__hidden_layer_sizes': [(30,),(40,),(50,),(60,)],\n",
    "        'mlp__activation': ['logistic', 'tanh', 'relu'],\n",
    "        'mlp__solver': ['lbfgs', 'sgd', 'adam'],\n",
    "        'mlp__learning_rate': ['constant', 'invscaling', 'adaptive']\n",
    "    }\n",
    "    param = best_param(feature, label, pipe, grid)\n",
    "    mlp_clf = nn.MLPClassifier(hidden_layer_sizes=param['mlp__hidden_layer_sizes'],\n",
    "                                        activation=param['mlp__activation'],\n",
    "                                        solver=param['mlp__solver'],\n",
    "                                        learning_rate=param['mlp__learning_rate'])\n",
    "    pipe_clf = pl.Pipeline(steps = [('scaler', scaler), ('mlp', mlp_clf)])\n",
    "    return pipe_clf"
   ]
  },
  {
   "cell_type": "code",
   "execution_count": 23,
   "metadata": {},
   "outputs": [
    {
     "name": "stdout",
     "output_type": "stream",
     "text": [
      "{'mlp__solver': 'lbfgs', 'mlp__learning_rate': 'constant', 'mlp__hidden_layer_sizes': (30,), 'mlp__activation': 'relu'}\n",
      "On Balanced Data\n",
      "Cross Validation Accuracy = [0.6385 0.6405 0.63   0.6155 0.6625]\n",
      "Average Accuracy = 0.6374\n"
     ]
    }
   ],
   "source": [
    "mlp = neural_network(bal_df)"
   ]
  },
  {
   "cell_type": "code",
   "execution_count": 31,
   "metadata": {},
   "outputs": [
    {
     "name": "stdout",
     "output_type": "stream",
     "text": [
      "              precision    recall  f1-score   support\n",
      "\n",
      "           0       0.96      0.13      0.23      1221\n",
      "           1       0.89      1.00      0.94      8779\n",
      "\n",
      "    accuracy                           0.89     10000\n",
      "   macro avg       0.92      0.56      0.59     10000\n",
      "weighted avg       0.90      0.89      0.86     10000\n",
      "\n"
     ]
    }
   ],
   "source": [
    "nn_predict_result = print_report(test_set, mlp)"
   ]
  },
  {
   "cell_type": "code",
   "execution_count": 32,
   "metadata": {},
   "outputs": [
    {
     "name": "stdout",
     "output_type": "stream",
     "text": [
      "stored neural_net\n",
      "model stored\n",
      "{'decision tree': array([1, 1, 1, ..., 1, 1, 1]), 'random forest': array([1, 1, 1, ..., 1, 1, 1]), 'ada boost': array([1, 1, 1, ..., 1, 1, 1]), 'nearest neighbor': array([0, 1, 1, ..., 1, 1, 1]), 'svc': array([1, 1, 1, ..., 1, 1, 1]), 'neural network': array([1, 1, 1, ..., 1, 1, 1])}\n"
     ]
    }
   ],
   "source": [
    "store_model(mlp, 'neural_net')\n",
    "print('model stored')\n",
    "add_result(nn_predict_result, 'neural network')\n",
    "print(predict_results)"
   ]
  },
  {
   "cell_type": "markdown",
   "metadata": {},
   "source": [
    "## Logistic Regression"
   ]
  },
  {
   "cell_type": "code",
   "execution_count": 24,
   "metadata": {},
   "outputs": [],
   "source": [
    "import sklearn.linear_model as lm\n",
    "\n",
    "def logistic_regression(data):\n",
    "    label, feature = split_label(data)\n",
    "    scaler = prep.StandardScaler()\n",
    "    lr = lm.LogisticRegression()\n",
    "    pipe = pl.Pipeline(steps = [('scaler', scaler), ('lr', lr)])\n",
    "    grid = {\n",
    "        'lr__penalty': ['l1', 'l2', 'elasticnet'],\n",
    "        'lr__max_iter': [50, 100, 200],\n",
    "        'lr__solver': ['newton-cg', 'lbfgs', 'liblinear', 'sag', 'saga']\n",
    "    }\n",
    "    param = best_param(feature, label, pipe, grid)\n",
    "    lr_clf = lm.LogisticRegression(penalty=param['lr__penalty'],\n",
    "                                        max_iter=param['lr__max_iter'],\n",
    "                                        solver=param['lr__solver'])\n",
    "    \n",
    "    pipe_clf = pl.Pipeline(steps = [('scaler', scaler), ('lr', lr_clf)])\n",
    "    return pipe_clf"
   ]
  },
  {
   "cell_type": "code",
   "execution_count": 36,
   "metadata": {},
   "outputs": [
    {
     "name": "stdout",
     "output_type": "stream",
     "text": [
      "{'lr__solver': 'sag', 'lr__penalty': 'l2', 'lr__max_iter': 100}\n",
      "On Balanced Data\n",
      "Cross Validation Accuracy = [0.6365 0.6395 0.621  0.6105]\n",
      "Average Accuracy = 0.626875\n"
     ]
    }
   ],
   "source": [
    "lr = logistic_regression(bal_df)"
   ]
  },
  {
   "cell_type": "code",
   "execution_count": 35,
   "metadata": {},
   "outputs": [
    {
     "name": "stdout",
     "output_type": "stream",
     "text": [
      "              precision    recall  f1-score   support\n",
      "\n",
      "           0       0.94      0.12      0.21      1221\n",
      "           1       0.89      1.00      0.94      8779\n",
      "\n",
      "    accuracy                           0.89     10000\n",
      "   macro avg       0.91      0.56      0.58     10000\n",
      "weighted avg       0.90      0.89      0.85     10000\n",
      "\n"
     ]
    }
   ],
   "source": [
    "lr_predict_result = print_report(test_set, lr)"
   ]
  },
  {
   "cell_type": "code",
   "execution_count": 36,
   "metadata": {},
   "outputs": [
    {
     "name": "stdout",
     "output_type": "stream",
     "text": [
      "stored lr\n",
      "model stored\n",
      "{'decision tree': array([1, 1, 1, ..., 1, 1, 1]), 'random forest': array([1, 1, 1, ..., 1, 1, 1]), 'ada boost': array([1, 1, 1, ..., 1, 1, 1]), 'nearest neighbor': array([0, 1, 1, ..., 1, 1, 1]), 'svc': array([1, 1, 1, ..., 1, 1, 1]), 'neural network': array([1, 1, 1, ..., 1, 1, 1]), 'logistic regression': array([1, 1, 1, ..., 1, 1, 1])}\n"
     ]
    }
   ],
   "source": [
    "store_model(lr, 'lr')\n",
    "print('model stored')\n",
    "add_result(lr_predict_result, 'logistic regression')\n",
    "print(predict_results)"
   ]
  },
  {
   "cell_type": "code",
   "execution_count": 37,
   "metadata": {},
   "outputs": [
    {
     "name": "stdout",
     "output_type": "stream",
     "text": [
      "decision tree\n",
      "10000\n",
      "random forest\n",
      "10000\n",
      "ada boost\n",
      "10000\n",
      "nearest neighbor\n",
      "10000\n",
      "svc\n",
      "10000\n",
      "neural network\n",
      "10000\n",
      "logistic regression\n",
      "10000\n"
     ]
    }
   ],
   "source": [
    "for v in predict_results.items():\n",
    "    print(v[0])\n",
    "    print(len(v[1]))\n",
    "store_results()"
   ]
  }
 ],
 "metadata": {
  "kernelspec": {
   "display_name": "Python 3",
   "language": "python",
   "name": "python3"
  },
  "language_info": {
   "codemirror_mode": {
    "name": "ipython",
    "version": 3
   },
   "file_extension": ".py",
   "mimetype": "text/x-python",
   "name": "python",
   "nbconvert_exporter": "python",
   "pygments_lexer": "ipython3",
   "version": "3.7.3"
  }
 },
 "nbformat": 4,
 "nbformat_minor": 2
}
